{
 "cells": [
  {
   "cell_type": "markdown",
   "id": "9ea5ab77-56e3-41b3-9ed2-feff9567db65",
   "metadata": {},
   "source": [
    "# Memory test (MT)\n",
    "This program runs the MT, uploading your test result to an online spreedsheet\n",
    "\n",
    "Select **Restart the kernel** and **run all cells** from the menu to run the test"
   ]
  },
  {
   "cell_type": "markdown",
   "id": "8456f7f9-92e6-4680-a3de-17160bd60eb9",
   "metadata": {},
   "source": [
    "from memorytestfinal import *\n",
    "random.seed(1)\n",
    "\n",
    "run_full_test()"
   ]
  },
  {
   "cell_type": "code",
   "execution_count": null,
   "id": "49bc753a-2d4d-40d6-8568-1d28219a0e2c",
   "metadata": {},
   "outputs": [],
   "source": []
  },
  {
   "cell_type": "code",
   "execution_count": null,
   "id": "d21cdebc-23bb-4242-b87e-600eb4fa6ab6",
   "metadata": {},
   "outputs": [],
   "source": []
  },
  {
   "cell_type": "code",
   "execution_count": null,
   "id": "5e1bccbe-b4e6-4630-9d69-39a7ba1600cc",
   "metadata": {},
   "outputs": [],
   "source": []
  }
 ],
 "metadata": {
  "kernelspec": {
   "display_name": "Python 3 (ipykernel)",
   "language": "python",
   "name": "python3"
  },
  "language_info": {
   "codemirror_mode": {
    "name": "ipython",
    "version": 3
   },
   "file_extension": ".py",
   "mimetype": "text/x-python",
   "name": "python",
   "nbconvert_exporter": "python",
   "pygments_lexer": "ipython3",
   "version": "3.12.2"
  }
 },
 "nbformat": 4,
 "nbformat_minor": 5
}
