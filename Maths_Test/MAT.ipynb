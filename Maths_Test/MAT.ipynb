{
 "cells": [
  {
   "cell_type": "markdown",
   "id": "5a3ba8da-e2a9-411f-8916-d79a3a032ab9",
   "metadata": {},
   "source": [
    "# The Maths Ability Test (MAT)\n",
    "\n",
    "This program runs the MAT, upoloading your results to an online spreadsheet.\n",
    "\n",
    "Select **Restart the kernel and run all cells** from the menu to run the test."
   ]
  },
  {
   "cell_type": "code",
   "execution_count": null,
   "id": "52161664-86f0-495d-86fe-bb83c1fafa88",
   "metadata": {},
   "outputs": [
    {
     "data": {
      "text/html": [
       "<h1>-45</h1>"
      ],
      "text/plain": [
       "<IPython.core.display.HTML object>"
      ]
     },
     "metadata": {},
     "output_type": "display_data"
    }
   ],
   "source": [
    "from MAT_resource import *\n",
    "\n",
    "run_full_test()"
   ]
  }
 ],
 "metadata": {
  "kernelspec": {
   "display_name": "Python 3 (ipykernel)",
   "language": "python",
   "name": "python3"
  },
  "language_info": {
   "codemirror_mode": {
    "name": "ipython",
    "version": 3
   },
   "file_extension": ".py",
   "mimetype": "text/x-python",
   "name": "python",
   "nbconvert_exporter": "python",
   "pygments_lexer": "ipython3",
   "version": "3.12.1"
  }
 },
 "nbformat": 4,
 "nbformat_minor": 5
}
